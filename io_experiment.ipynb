{
 "cells": [
  {
   "cell_type": "markdown",
   "metadata": {},
   "source": [
    "This is a notebook to outline an experiment to ease handling of Components I/O when creating your Pipelines with Haystack.\n",
    "Ideally it will ease discoverability of both input and output of ALL Components, no matter how they're defined.\n",
    "\n",
    "This will also make it easier to call `Pipeline.connect()`.\n",
    "\n",
    "This is obviously an exploration of possible enhancements, nothing is set in stone. It has its rought edges and space for improvement.\n",
    "\n",
    "So first install Haystack."
   ]
  },
  {
   "cell_type": "code",
   "execution_count": null,
   "metadata": {},
   "outputs": [],
   "source": [
    "%pip install -e ."
   ]
  },
  {
   "cell_type": "markdown",
   "metadata": {},
   "source": [
    "Let's take a random component and see its I/O."
   ]
  },
  {
   "cell_type": "code",
   "execution_count": null,
   "metadata": {},
   "outputs": [],
   "source": [
    "from haystack.components.builders.dynamic_prompt_builder import DynamicPromptBuilder\n",
    "\n",
    "builder = DynamicPromptBuilder()\n",
    "print(builder.inputs)\n",
    "print(builder.outputs)"
   ]
  },
  {
   "cell_type": "markdown",
   "metadata": {},
   "source": [
    "Cool, this just doesn't print a representation of the Component's I/O, it also enables code auto completion.\n",
    "Try it in the cell below."
   ]
  },
  {
   "cell_type": "code",
   "execution_count": null,
   "metadata": {},
   "outputs": [],
   "source": [
    "# Write a . right after inputs to get the list of available inputs\n",
    "builder.inputs\n",
    "# Same for outputs\n",
    "builder.outputs"
   ]
  },
  {
   "cell_type": "markdown",
   "metadata": {},
   "source": [
    "But there's more, you can use this in `Pipeline.connect()`. \n",
    "Try to recreate the same connections shown in the comments, but using the Components instances."
   ]
  },
  {
   "cell_type": "code",
   "execution_count": null,
   "metadata": {},
   "outputs": [],
   "source": [
    "from haystack import Pipeline\n",
    "from haystack.document_stores.in_memory import InMemoryDocumentStore\n",
    "from haystack.components.retrievers.in_memory import InMemoryBM25Retriever\n",
    "from haystack.components.generators import OpenAIGenerator\n",
    "from haystack.components.builders.answer_builder import AnswerBuilder\n",
    "from haystack.components.builders.prompt_builder import PromptBuilder\n",
    "\n",
    "prompt_template = \"\"\"\n",
    "Given these documents, answer the question.\\nDocuments:\n",
    "{% for doc in documents %}\n",
    "    {{ doc.content }}\n",
    "{% endfor %}\n",
    "\n",
    "\\nQuestion: {{question}}\n",
    "\\nAnswer:\n",
    "\"\"\"\n",
    "\n",
    "retriever = InMemoryBM25Retriever(document_store=InMemoryDocumentStore())\n",
    "prompt_builder = PromptBuilder(template=prompt_template)\n",
    "llm = OpenAIGenerator(api_key=\"some_stupid_fake_key\")\n",
    "answer_builder = AnswerBuilder()\n",
    "\n",
    "pipeline = Pipeline()\n",
    "pipeline.add_component(\"retriever\", retriever)\n",
    "pipeline.add_component(\"prompt_builder\", prompt_builder)\n",
    "pipeline.add_component(\"llm\", llm)\n",
    "pipeline.add_component(\"answer_builder\", answer_builder)\n",
    "# pipeline.connect(\"retriever\", \"prompt_builder.documents\")\n",
    "# pipeline.connect(\"prompt_builder\", \"llm\")\n",
    "# pipeline.connect(\"llm.replies\", \"answer_builder.replies\")\n",
    "# pipeline.connect(\"llm.meta\", \"answer_builder.meta\")\n",
    "# pipeline.connect(\"retriever\", \"answer_builder.documents\")\n",
    "\n",
    "# Small suggestion ;)\n",
    "pipeline.connect(retriever.outputs.documents, prompt_builder.inputs.documents)"
   ]
  },
  {
   "cell_type": "markdown",
   "metadata": {},
   "source": [
    "Let's draw the Pipeline and see the connections."
   ]
  },
  {
   "cell_type": "code",
   "execution_count": null,
   "metadata": {},
   "outputs": [],
   "source": [
    "from IPython.display import Image\n",
    "from pathlib import Path\n",
    "\n",
    "image_path = Path(\".\") / \"experimental_io_pipeline.png\"\n",
    "pipeline.draw(image_path)\n",
    "Image(image_path)"
   ]
  },
  {
   "cell_type": "markdown",
   "metadata": {},
   "source": [
    "Have you noticed a thing? \n",
    "We're not using the names of the Components anymore, just their instances. The names is only used when calling `Pipeline.add_component()`.\n",
    "\n",
    "A way to add Components to a Pipeline is still useful for several reasons, one could be a UI, so I wouldn't remove `Pipeline.add_component()` completely. But I would change it.\n",
    "We could remove completely the names:\n",
    "```\n",
    "pipe.add_component(retriever)\n",
    "pipe.add_component(prompt_builder)\n",
    "pipe.add_component(llm)\n",
    "```\n",
    "\n",
    "Or even have a single function to add multiple components at the same time:\n",
    "\n",
    "```\n",
    "pipe.add_components(retriever, prompt_builder, llm)\n",
    "```\n",
    "\n",
    "In this experiment it's not possible but there's potential for that."
   ]
  }
 ],
 "metadata": {
  "kernelspec": {
   "display_name": "haystack38",
   "language": "python",
   "name": "python3"
  },
  "language_info": {
   "codemirror_mode": {
    "name": "ipython",
    "version": 3
   },
   "file_extension": ".py",
   "mimetype": "text/x-python",
   "name": "python",
   "nbconvert_exporter": "python",
   "pygments_lexer": "ipython3",
   "version": "3.8.17"
  }
 },
 "nbformat": 4,
 "nbformat_minor": 2
}
